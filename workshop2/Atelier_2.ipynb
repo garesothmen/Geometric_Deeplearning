{
 "cells": [
  {
   "cell_type": "markdown",
   "metadata": {
    "id": "xuU6uqW4pMWY"
   },
   "source": [
    "# Affichage du graphe"
   ]
  },
  {
   "cell_type": "code",
   "execution_count": 1,
   "metadata": {},
   "outputs": [
    {
     "name": "stdout",
     "output_type": "stream",
     "text": [
      "Collecting torch\n",
      "  Downloading torch-1.13.0-cp38-cp38-win_amd64.whl (167.3 MB)\n",
      "Requirement already satisfied: typing-extensions in c:\\users\\msi\\anaconda3\\lib\\site-packages (from torch) (4.4.0)\n",
      "Installing collected packages: torch\n",
      "Successfully installed torch-1.13.0\n"
     ]
    }
   ],
   "source": [
    "!pip install torch"
   ]
  },
  {
   "cell_type": "markdown",
   "metadata": {
    "id": "39RpsNgTC_Jn"
   },
   "source": [
    "Monter le drive"
   ]
  },
  {
   "cell_type": "code",
   "execution_count": null,
   "metadata": {
    "id": "LWgKs14Ydp9G"
   },
   "outputs": [],
   "source": []
  },
  {
   "cell_type": "markdown",
   "metadata": {
    "id": "-LXiGhbqDCvG"
   },
   "source": [
    "Se positionner dans le répertoire des données"
   ]
  },
  {
   "cell_type": "code",
   "execution_count": 1,
   "metadata": {
    "id": "M0fmNsYHgSLE"
   },
   "outputs": [],
   "source": [
    "import os \n",
    "os.chdir(\".\")"
   ]
  },
  {
   "cell_type": "code",
   "execution_count": 2,
   "metadata": {},
   "outputs": [
    {
     "data": {
      "text/plain": [
       "'C:\\\\Users\\\\MSI\\\\Desktop\\\\3IDSD#ID\\\\deepl_learning_geometric\\\\TP2'"
      ]
     },
     "execution_count": 2,
     "metadata": {},
     "output_type": "execute_result"
    }
   ],
   "source": [
    "os.getcwd()"
   ]
  },
  {
   "cell_type": "markdown",
   "metadata": {
    "id": "W8nvBV0yDeij"
   },
   "source": [
    "Importation des packages"
   ]
  },
  {
   "cell_type": "code",
   "execution_count": 4,
   "metadata": {
    "scrolled": true
   },
   "outputs": [
    {
     "name": "stdout",
     "output_type": "stream",
     "text": [
      "Collecting networkx\n",
      "  Downloading networkx-2.8.8-py3-none-any.whl (2.0 MB)\n",
      "Installing collected packages: networkx\n",
      "Successfully installed networkx-2.8.8\n"
     ]
    }
   ],
   "source": [
    "!pip install networkx"
   ]
  },
  {
   "cell_type": "code",
   "execution_count": null,
   "metadata": {},
   "outputs": [],
   "source": []
  },
  {
   "cell_type": "code",
   "execution_count": 6,
   "metadata": {
    "id": "R6UP0K6W89H-"
   },
   "outputs": [
    {
     "ename": "ModuleNotFoundError",
     "evalue": "No module named 'karateclub'",
     "output_type": "error",
     "traceback": [
      "\u001b[1;31m---------------------------------------------------------------------------\u001b[0m",
      "\u001b[1;31mModuleNotFoundError\u001b[0m                       Traceback (most recent call last)",
      "\u001b[1;32m~\\AppData\\Local\\Temp/ipykernel_12756/3345854576.py\u001b[0m in \u001b[0;36m<module>\u001b[1;34m\u001b[0m\n\u001b[0;32m      1\u001b[0m \u001b[1;32mimport\u001b[0m \u001b[0mnetworkx\u001b[0m \u001b[1;32mas\u001b[0m \u001b[0mnx\u001b[0m\u001b[1;33m\u001b[0m\u001b[1;33m\u001b[0m\u001b[0m\n\u001b[0;32m      2\u001b[0m \u001b[1;33m\u001b[0m\u001b[0m\n\u001b[1;32m----> 3\u001b[1;33m \u001b[1;32mfrom\u001b[0m \u001b[0mkarateclub\u001b[0m \u001b[1;32mimport\u001b[0m \u001b[0mDeepWalk\u001b[0m\u001b[1;33m\u001b[0m\u001b[1;33m\u001b[0m\u001b[0m\n\u001b[0m\u001b[0;32m      4\u001b[0m \u001b[1;32mimport\u001b[0m  \u001b[0mumap\u001b[0m\u001b[1;33m\u001b[0m\u001b[1;33m\u001b[0m\u001b[0m\n\u001b[0;32m      5\u001b[0m \u001b[1;32mfrom\u001b[0m \u001b[0msklearn\u001b[0m\u001b[1;33m.\u001b[0m\u001b[0mpreprocessing\u001b[0m \u001b[1;32mimport\u001b[0m \u001b[0mStandardScaler\u001b[0m\u001b[1;33m\u001b[0m\u001b[1;33m\u001b[0m\u001b[0m\n",
      "\u001b[1;31mModuleNotFoundError\u001b[0m: No module named 'karateclub'"
     ]
    }
   ],
   "source": [
    "import networkx as nx\n",
    "\n",
    "import  umap\n",
    "from sklearn.preprocessing import StandardScaler \n",
    "import seaborn as sns \n",
    "from karateclub import RandomWalker\n",
    "import gensim\n",
    "from gensim.models import Word2Vec\n",
    "import numpy as np \n",
    "import pandas as pd \n",
    "import os\n",
    "for dirname, _, filenames in os.walk('data'):\n",
    "    for filename in filenames:\n",
    "        print(os.path.join(dirname, filename))\n",
    "import networkx as nx\n",
    "import matplotlib.pyplot as plt\n",
    "from sklearn.model_selection import train_test_split\n",
    "from sklearn.ensemble import RandomForestClassifier\n",
    "from sklearn.metrics import f1_score\n",
    "from sklearn.metrics import confusion_matrix\n",
    "from karateclub.utils.walker import BiasedRandomWalker"
   ]
  },
  {
   "cell_type": "markdown",
   "metadata": {
    "id": "fGwcpN6mD0ze"
   },
   "source": [
    "Création du graphe et du layout"
   ]
  },
  {
   "cell_type": "code",
   "execution_count": null,
   "metadata": {},
   "outputs": [],
   "source": [
    "edglist=pd.read_csv(\"Data/edges.csv\")\n",
    "targetlist=pd.read_csv(\"Data/targets.csv\")\n",
    "features=pd.read_csv(\"Data/features.csv\")"
   ]
  },
  {
   "cell_type": "code",
   "execution_count": null,
   "metadata": {},
   "outputs": [],
   "source": [
    "edglist.head()"
   ]
  },
  {
   "cell_type": "code",
   "execution_count": null,
   "metadata": {},
   "outputs": [],
   "source": [
    "targetlist.head()"
   ]
  },
  {
   "cell_type": "code",
   "execution_count": null,
   "metadata": {
    "id": "6cOEF4ku5MDL"
   },
   "outputs": [],
   "source": [
    "G=graph=nx.convert_matrix.from_pandas_edgelist(edglist,\"id_1\",\"id_2\")"
   ]
  },
  {
   "cell_type": "markdown",
   "metadata": {
    "id": "xVlT5XCLD9vZ"
   },
   "source": [
    "Attribution des couleurs par rapport aux labels"
   ]
  },
  {
   "cell_type": "code",
   "execution_count": null,
   "metadata": {},
   "outputs": [],
   "source": [
    "G.nodes"
   ]
  },
  {
   "cell_type": "code",
   "execution_count": null,
   "metadata": {},
   "outputs": [],
   "source": [
    "# liste à remplir avec des étiquettes pour la distinction des individus \n",
    "l=[]\n",
    "for i in G.nodes():\n",
    "    l.append(list(targetlist[targetlist[\"id_\"]==int(i)][\"label\"])[0])\n",
    "    "
   ]
  },
  {
   "cell_type": "code",
   "execution_count": null,
   "metadata": {},
   "outputs": [],
   "source": [
    "nx.draw(G)"
   ]
  },
  {
   "cell_type": "markdown",
   "metadata": {
    "id": "4iiqle10ERPR"
   },
   "source": [
    "Affichage du graphe"
   ]
  },
  {
   "cell_type": "code",
   "execution_count": null,
   "metadata": {},
   "outputs": [],
   "source": [
    "# affichage du graphe \n",
    "plt.figure(figsize=(25,10))\n",
    "ax = plt.gca()\n",
    "ax.set_title('- Network Circular Plot')\n",
    "# Tracer le graphique\n",
    "nx.draw_networkx(G, ax=ax, with_labels=False,node_color=l, node_shape=\"^\", node_size=800,cmap='cool') \n"
   ]
  },
  {
   "cell_type": "markdown",
   "metadata": {
    "id": "Ws9J-4f-5jg5"
   },
   "source": [
    "# Prétraitement des données\n"
   ]
  },
  {
   "cell_type": "markdown",
   "metadata": {
    "id": "H0fCprECEZV4"
   },
   "source": [
    "Extraction des données nécessaires"
   ]
  },
  {
   "cell_type": "code",
   "execution_count": null,
   "metadata": {},
   "outputs": [],
   "source": [
    "!pip install torch"
   ]
  },
  {
   "cell_type": "code",
   "execution_count": null,
   "metadata": {
    "id": "Hcnn7EeVdpv3"
   },
   "outputs": [],
   "source": [
    "import sys\n",
    "sys.path.insert(0,'.')\n",
    "from utils import load_data\n",
    "adj, features, labels, idx_train, idx_val, idx_test = load_data()"
   ]
  },
  {
   "cell_type": "markdown",
   "metadata": {
    "id": "bOlrapCrEfr3"
   },
   "source": [
    "Vérification des dimensions"
   ]
  },
  {
   "cell_type": "code",
   "execution_count": null,
   "metadata": {
    "id": "3-rkKrumP3fE"
   },
   "outputs": [],
   "source": [
    "adj.shape"
   ]
  },
  {
   "cell_type": "code",
   "execution_count": null,
   "metadata": {
    "id": "p0aOt-K_P3bc"
   },
   "outputs": [],
   "source": [
    "features.shape"
   ]
  },
  {
   "cell_type": "code",
   "execution_count": null,
   "metadata": {
    "id": "C5kbUtJlP3W0"
   },
   "outputs": [],
   "source": [
    "labels.shape"
   ]
  },
  {
   "cell_type": "code",
   "execution_count": null,
   "metadata": {
    "id": "eUVYhk-1P3TR"
   },
   "outputs": [],
   "source": [
    "idx_train.shape"
   ]
  },
  {
   "cell_type": "code",
   "execution_count": null,
   "metadata": {
    "id": "e1bsG6Ijdpsa"
   },
   "outputs": [],
   "source": [
    "idx_val.shape"
   ]
  },
  {
   "cell_type": "code",
   "execution_count": null,
   "metadata": {
    "id": "c1HepyP_ZNyx"
   },
   "outputs": [],
   "source": [
    "idx_test.shape"
   ]
  },
  {
   "cell_type": "markdown",
   "metadata": {
    "id": "kuwBHJPj63eD"
   },
   "source": [
    "#MLP"
   ]
  },
  {
   "cell_type": "markdown",
   "metadata": {
    "id": "E34iPCGN8UhJ"
   },
   "source": [
    "##Fonctions utilitaires"
   ]
  },
  {
   "cell_type": "markdown",
   "metadata": {
    "id": "foTVkVDXEmod"
   },
   "source": [
    "Nombre de paramètres d'un modèle"
   ]
  },
  {
   "cell_type": "code",
   "execution_count": null,
   "metadata": {
    "id": "C7-utEuk_4Du"
   },
   "outputs": [],
   "source": [
    "def num_params(model):\n",
    "    return sum(p.numel() for p in model.parameters() if p.requires_grad) "
   ]
  },
  {
   "cell_type": "markdown",
   "metadata": {
    "id": "ozf9fnF9Ex5y"
   },
   "source": [
    "Prédictions correctes"
   ]
  },
  {
   "cell_type": "code",
   "execution_count": null,
   "metadata": {
    "id": "taHm7dLCc07H"
   },
   "outputs": [],
   "source": [
    "def get_predictions(output, labels):\n",
    "    preds = output.max(1)[1].type_as(labels)\n",
    "    correct = preds.eq(labels).double()\n",
    "    return "
   ]
  },
  {
   "cell_type": "markdown",
   "metadata": {
    "id": "1s3O-rD6FMs7"
   },
   "source": [
    "Calcul de l'accuracy"
   ]
  },
  {
   "cell_type": "code",
   "execution_count": null,
   "metadata": {
    "id": "_vJJtffYc033"
   },
   "outputs": [],
   "source": [
    "def accuracy(output, labels):\n",
    "    correct = get_predictions(output, labels)\n",
    "    correct = correct.sum()\n",
    "    return "
   ]
  },
  {
   "cell_type": "markdown",
   "metadata": {
    "id": "UELiXAeFFYUX"
   },
   "source": [
    "Calcul de l'accuracy d'un MLP"
   ]
  },
  {
   "cell_type": "code",
   "execution_count": null,
   "metadata": {
    "id": "hs34njrugovM"
   },
   "outputs": [],
   "source": [
    "def mlp_accuracy(model):\n",
    "    \"\"\"\n",
    "    Perfom a forward pass `y_pred = model(x)` and computes the accuracy\n",
    "    between `y_pred` and `y_true`\n",
    "    \"\"\"\n",
    "    model.eval()\n",
    "    y_pred = model()\n",
    "    acc = accuracy()\n",
    "    print(f\"Accuracy: {acc:.5}\")\n",
    "    return"
   ]
  },
  {
   "cell_type": "markdown",
   "metadata": {
    "id": "MXuxys2q8o6i"
   },
   "source": [
    "##Modèle MLP"
   ]
  },
  {
   "cell_type": "markdown",
   "metadata": {
    "id": "VMfDsLIwFgHV"
   },
   "source": [
    "Conception du modèle"
   ]
  },
  {
   "cell_type": "code",
   "execution_count": null,
   "metadata": {
    "id": "pTrDP3JLv6Bm"
   },
   "outputs": [],
   "source": [
    "import torch.nn as nn\n",
    "mlp = "
   ]
  },
  {
   "cell_type": "markdown",
   "metadata": {
    "id": "qU-KfEmQ8a83"
   },
   "source": [
    "##MLP sans entrainement"
   ]
  },
  {
   "cell_type": "markdown",
   "metadata": {
    "id": "lcaDIjnJFkpi"
   },
   "source": [
    "Affichage de l'accuracy"
   ]
  },
  {
   "cell_type": "code",
   "execution_count": null,
   "metadata": {
    "id": "ARsJwLmPv80s"
   },
   "outputs": [],
   "source": [
    "print(\"Loss before training\")\n"
   ]
  },
  {
   "cell_type": "markdown",
   "metadata": {
    "id": "ZdSfWjQQ8vHm"
   },
   "source": [
    "##MLP avec entrainement\n"
   ]
  },
  {
   "cell_type": "markdown",
   "metadata": {
    "id": "WMXOpEp-FqCy"
   },
   "source": [
    "Entrainer le modèle MLP"
   ]
  },
  {
   "cell_type": "code",
   "execution_count": null,
   "metadata": {
    "id": "JO-B_WHQgo2c"
   },
   "outputs": [],
   "source": [
    "import torch.optim as optim\n",
    "from tqdm import trange \n",
    "import torch.nn.functional as F\n",
    "\n",
    "opt = optim.Adam(mlp.parameters())\n",
    "\n",
    "losses = []\n",
    "mlp.train()\n",
    "\n",
    "for epoch in trange():\n",
    "    opt.zero_grad()\n",
    "    output = mlp()\n",
    "    loss = F.cross_entropy()\n",
    "    loss.backward()\n",
    "    opt.step()\n",
    "    losses.append(loss.item())"
   ]
  },
  {
   "cell_type": "markdown",
   "metadata": {
    "id": "Npn0VTQ5FzYT"
   },
   "source": [
    "Affichage de l'accuracy"
   ]
  },
  {
   "cell_type": "code",
   "execution_count": null,
   "metadata": {
    "id": "_MuptVerwsjH"
   },
   "outputs": [],
   "source": [
    "print(\"Loss after training\")\n"
   ]
  },
  {
   "cell_type": "markdown",
   "metadata": {
    "id": "hNpR4X82F3TE"
   },
   "source": [
    "Nombre de paramètres du modèle MLP"
   ]
  },
  {
   "cell_type": "code",
   "execution_count": null,
   "metadata": {
    "id": "zQXL7BdV_9pB"
   },
   "outputs": [],
   "source": [
    "print('Number of parameters MLP: ', )"
   ]
  },
  {
   "cell_type": "markdown",
   "metadata": {
    "id": "l0rwvOQ-9Vk_"
   },
   "source": [
    "#GCN"
   ]
  },
  {
   "cell_type": "markdown",
   "metadata": {
    "id": "-bHS_5Li-B-f"
   },
   "source": [
    "##Couche GCN"
   ]
  },
  {
   "cell_type": "markdown",
   "metadata": {
    "id": "S20vu748GAPz"
   },
   "source": [
    "COnception d'une couche"
   ]
  },
  {
   "cell_type": "code",
   "execution_count": null,
   "metadata": {
    "id": "hj9Zo3I-xe8v"
   },
   "outputs": [],
   "source": [
    "from torch.nn import Parameter\n",
    "import torch\n",
    "import math\n",
    "class GraphConvolution(nn.Module):\n",
    "\n",
    "    def __init__(self, in_features, out_features):\n",
    "        super(GraphConvolution, self).__init__()\n",
    "\n",
    "        self.weight = \n",
    "        self.bias = \n",
    "        self.\n",
    "\n",
    "    def reset_parameters(self):\n",
    "      # standard weight to be uniform  \n",
    "\n",
    "    def forward(self, input, adj):\n",
    "      # H * W\n",
    "\n",
    "      # N(A) * H * W # Addition aggregation by multiplying\n",
    "\n",
    "      # return : N(A) * H * W + b  "
   ]
  },
  {
   "cell_type": "markdown",
   "metadata": {
    "id": "2tNdc5JV-GeI"
   },
   "source": [
    "##Modèle GCN"
   ]
  },
  {
   "cell_type": "markdown",
   "metadata": {
    "id": "VylvbZSSGI8W"
   },
   "source": [
    "Conception du modèle "
   ]
  },
  {
   "cell_type": "code",
   "execution_count": null,
   "metadata": {
    "id": "DZat5FaJxj-f"
   },
   "outputs": [],
   "source": [
    "class GCN(nn.Module):\n",
    "    def __init__(self, nfeat, nhid, nclass):\n",
    "        super(GCN, self).__init__()\n",
    "        # Define the first layer of graph convolutional layer,\n",
    "\n",
    "        # Define the second layer of graph convolutional layer, the input dimension is n_hid, the output dimension is n_class\n",
    "        \n",
    "\n",
    "    def forward(self, x, adj):\n",
    "        # The output of the first convolutional layer and the output of the nonlinear activation function Relu\n",
    "   \n",
    "        # The output of the second convolutional layer is mapped to the output category dimension"
   ]
  },
  {
   "cell_type": "markdown",
   "metadata": {
    "id": "QDpgPXWK-LN5"
   },
   "source": [
    "##Fonction d'évaluation"
   ]
  },
  {
   "cell_type": "markdown",
   "metadata": {
    "id": "aOd_PqT3GO2r"
   },
   "source": [
    "Calcul de l'accuracy d'un modèle GCN"
   ]
  },
  {
   "cell_type": "code",
   "execution_count": null,
   "metadata": {
    "id": "h_mqTYvOzQv_"
   },
   "outputs": [],
   "source": [
    "def gcn_accuracy(model):\n",
    "\n",
    "    model.eval()\n",
    "    y_pred =  \n",
    "    acc =  \n",
    "    print(f\"Accuracy: {acc:.5}\")\n",
    "    return "
   ]
  },
  {
   "cell_type": "markdown",
   "metadata": {
    "id": "KN6pRqAk-doT"
   },
   "source": [
    "##Cas de test"
   ]
  },
  {
   "cell_type": "markdown",
   "metadata": {
    "id": "3aDigYZyGYep"
   },
   "source": [
    "Tester le modèle GCN"
   ]
  },
  {
   "cell_type": "code",
   "execution_count": null,
   "metadata": {
    "id": "8EsQ_i_vwsmk"
   },
   "outputs": [],
   "source": [
    "gcn = "
   ]
  },
  {
   "cell_type": "markdown",
   "metadata": {
    "id": "nC5mKx2R-twb"
   },
   "source": [
    "##Evaluation sans entrainement "
   ]
  },
  {
   "cell_type": "markdown",
   "metadata": {
    "id": "95rmSCkiGc-B"
   },
   "source": [
    "Affichage de l'accuracy avant entrainement"
   ]
  },
  {
   "cell_type": "code",
   "execution_count": null,
   "metadata": {
    "id": "tyVTXoAb-nkV"
   },
   "outputs": [],
   "source": [
    "print(\"Loss before training\")\n"
   ]
  },
  {
   "cell_type": "markdown",
   "metadata": {
    "id": "vNnzf7SV-3pV"
   },
   "source": [
    "##Evaluation avec entrainement"
   ]
  },
  {
   "cell_type": "markdown",
   "metadata": {
    "id": "wQnbTqUXGkER"
   },
   "source": [
    "Entrainer le modèle GCN"
   ]
  },
  {
   "cell_type": "code",
   "execution_count": null,
   "metadata": {
    "id": "ga5Wbr1IwspW"
   },
   "outputs": [],
   "source": [
    "opt = optim.Adam(gcn.parameters())\n",
    "\n",
    "losses = []\n",
    "gcn.train()\n",
    "\n",
    "for epoch in trange():\n",
    "    opt.\n",
    "    output = \n",
    "    loss = \n",
    "    loss.\n",
    "    opt.\n",
    "    losses."
   ]
  },
  {
   "cell_type": "markdown",
   "metadata": {
    "id": "PIPnNMscGorS"
   },
   "source": [
    "Affichage de l'accuracy après entrainement"
   ]
  },
  {
   "cell_type": "code",
   "execution_count": null,
   "metadata": {
    "id": "_lIo98khzdxD"
   },
   "outputs": [],
   "source": [
    "print(\"Loss after training\")\n"
   ]
  },
  {
   "cell_type": "markdown",
   "metadata": {
    "id": "5W9-dFA7Gtrm"
   },
   "source": [
    "Affichage du nombre de paramètres du modèle GCN"
   ]
  },
  {
   "cell_type": "code",
   "execution_count": null,
   "metadata": {
    "id": "lVj-Pfro20xx"
   },
   "outputs": [],
   "source": [
    "print('Number of parameters GCN: ', )"
   ]
  }
 ],
 "metadata": {
  "colab": {
   "provenance": [
    {
     "file_id": "1A71IeyrN4FCQnRA3ba2SbcTucZ94PT5u",
     "timestamp": 1667814026551
    }
   ]
  },
  "kernelspec": {
   "display_name": "Python 3 (ipykernel)",
   "language": "python",
   "name": "python3"
  },
  "language_info": {
   "codemirror_mode": {
    "name": "ipython",
    "version": 3
   },
   "file_extension": ".py",
   "mimetype": "text/x-python",
   "name": "python",
   "nbconvert_exporter": "python",
   "pygments_lexer": "ipython3",
   "version": "3.8.8"
  }
 },
 "nbformat": 4,
 "nbformat_minor": 1
}
